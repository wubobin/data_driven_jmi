{
 "cells": [
  {
   "cell_type": "code",
   "execution_count": null,
   "id": "bb8e9005-1705-4329-86ba-3588fa312542",
   "metadata": {},
   "outputs": [],
   "source": [
    "import numpy as np\n",
    "from pymatgen.core import Structure\n",
    "from megnet.models import MEGNetModel\n",
    "from megnet.data.crystal import CrystalGraph\n",
    "import json"
   ]
  },
  {
   "cell_type": "code",
   "execution_count": null,
   "id": "451f799f-cbea-4599-871a-ab0da6c25694",
   "metadata": {},
   "outputs": [],
   "source": [
    "# 对DFT直接拟合"
   ]
  },
  {
   "cell_type": "code",
   "execution_count": null,
   "id": "7a0e7a0b-0336-4e8f-ad4d-059ebbd4ae54",
   "metadata": {},
   "outputs": [],
   "source": [
    "with open(\"/root/home/jupyter/DFT/bandgap/bandgap_json/DFT_bandgapTrain1.json\", \"r\") as f:\n",
    "    data_train = json.load(f)"
   ]
  },
  {
   "cell_type": "code",
   "execution_count": null,
   "id": "10b11eb8-0c2e-4908-8b59-b9ce22f3e87b",
   "metadata": {},
   "outputs": [],
   "source": [
    "structures = []\n",
    "DFT_bandgaps = []\n",
    "\n",
    "for item in data_train:\n",
    "    structure = Structure.from_dict(item['structure'])\n",
    "    gap = item['bandgap']\n",
    "    structures.append(structure)\n",
    "    DFT_bandgaps.append(gap)"
   ]
  },
  {
   "cell_type": "code",
   "execution_count": null,
   "id": "0afee02c-3f9f-420c-a6c8-2d02368e2cbe",
   "metadata": {},
   "outputs": [],
   "source": [
    "#5是最低截断半径，用以判断哪两个原子之间有键连接"
   ]
  },
  {
   "cell_type": "code",
   "execution_count": null,
   "id": "f87e5753-3f9d-4f68-b64e-4a844fb591ec",
   "metadata": {
    "tags": []
   },
   "outputs": [],
   "source": [
    "import numpy as np\n",
    "from sklearn.metrics import mean_squared_error, r2_score, mean_absolute_error\n",
    "\n",
    "# 设置参数列表\n",
    "nfeat_bond_list = [10, 15, 20, 25, 30]\n",
    "r_cutoff_list = [6, 7, 8]\n",
    "\n",
    "# 初始化结果记录\n",
    "results = []\n",
    "\n",
    "# 循环训练模型\n",
    "for nfeat_bond in nfeat_bond_list:\n",
    "    for r_cutoff in r_cutoff_list:\n",
    "        # 设置参数\n",
    "        gaussian_centers = np.linspace(0, r_cutoff+1, nfeat_bond)\n",
    "        gaussian_width = 0.5\n",
    "        graph_converter = CrystalGraph(cutoff=r_cutoff)\n",
    "        \n",
    "        # 初始化模型\n",
    "        model = MEGNetModel(graph_converter=graph_converter, centers=gaussian_centers, width=gaussian_width)\n",
    "        \n",
    "        # 训练模型\n",
    "        model.train(structures,DFT_bandgaps, epochs=100)\n",
    "        \n",
    "        # 预测结果\n",
    "        predictions = []\n",
    "        for structure in structures:\n",
    "            prediction = model.predict_structure(structure)\n",
    "            predictions.append(prediction[0])\n",
    "        \n",
    "        # 计算评估指标\n",
    "        mse = mean_squared_error(DFT_bandgaps, predictions)\n",
    "        rmse = np.sqrt(mse)\n",
    "        mae = mean_absolute_error(DFT_bandgaps, predictions)\n",
    "        r2 = r2_score(DFT_bandgaps, predictions)\n",
    "        \n",
    "        # 记录结果\n",
    "        results.append({\n",
    "            'nfeat_bond': nfeat_bond,\n",
    "            'r_cutoff': r_cutoff,\n",
    "            'mse': mse,\n",
    "            'rmse': rmse,\n",
    "            'mae': mae,\n",
    "            'r2': r2\n",
    "        })\n",
    "\n"
   ]
  },
  {
   "cell_type": "code",
   "execution_count": null,
   "id": "426c568e-cedc-4eab-ab50-d1890a4db69b",
   "metadata": {},
   "outputs": [],
   "source": [
    "# 打印结果\n",
    "for result in results:\n",
    "    print(f\"nfeat_bond: {result['nfeat_bond']}, r_cutoff: {result['r_cutoff']}, MSE: {result['mse']}, RMSE: {result['rmse']}, MAE: {result['mae']}, R2: {result['r2']}\")\n"
   ]
  },
  {
   "cell_type": "code",
   "execution_count": null,
   "id": "7700dbde-a19a-4bab-b651-eae683bd3538",
   "metadata": {},
   "outputs": [],
   "source": [
    "def get_best_r2(results):\n",
    "    # 找到R2最大的结果\n",
    "    best_result = max(results, key=lambda result: result['r2'])\n",
    "    return best_result\n",
    "\n",
    "def get_best_rmse(results):\n",
    "    # 计算每个结果的RMSE\n",
    "    for result in results:\n",
    "        result['rmse'] = np.sqrt(result['mse'])\n",
    "    \n",
    "    # 找到RMSE最小的结果\n",
    "    best_result = min(results, key=lambda result: result['rmse'])\n",
    "    return best_result\n"
   ]
  },
  {
   "cell_type": "code",
   "execution_count": null,
   "id": "fd06bd5e-0bad-47e9-81ac-447374cd8229",
   "metadata": {
    "tags": []
   },
   "outputs": [],
   "source": [
    "best_r2_result = get_best_r2(results)\n",
    "print(f\"Best R2: {best_r2_result['r2']}, nfeat_bond: {best_r2_result['nfeat_bond']}, r_cutoff: {best_r2_result['r_cutoff']}\")\n",
    "\n",
    "best_rmse_result = get_best_rmse(results)\n",
    "print(f\"Best RMSE: {best_rmse_result['rmse']}, nfeat_bond: {best_rmse_result['nfeat_bond']}, r_cutoff: {best_rmse_result['r_cutoff']}\")\n"
   ]
  },
  {
   "cell_type": "code",
   "execution_count": null,
   "id": "5947b60f-841f-4df8-a886-c1d4a3911c6f",
   "metadata": {},
   "outputs": [],
   "source": []
  },
  {
   "cell_type": "code",
   "execution_count": null,
   "id": "086bb319-af56-46d8-824d-d5e5d07b29a6",
   "metadata": {},
   "outputs": [],
   "source": [
    "def get_best_mae(results):\n",
    "    # 计算每个结果的MAE\n",
    "    for result in results:\n",
    "        result['mae'] = mean_absolute_error(gaps, predictions)\n",
    "    \n",
    "    # 找到MAE最小的结果\n",
    "    best_result = min(results, key=lambda result: result['mae'])\n",
    "    return best_result"
   ]
  },
  {
   "cell_type": "code",
   "execution_count": null,
   "id": "438f4b66-0c42-4ac0-9bac-2a679569d72b",
   "metadata": {},
   "outputs": [],
   "source": [
    "best_mae_result = get_best_mae(results)\n",
    "print(f\"Best MAE: {best_mae_result['mae']}, nfeat_bond: {best_mae_result['nfeat_bond']}, r_cutoff: {best_mae_result['r_cutoff']}\")\n"
   ]
  },
  {
   "cell_type": "code",
   "execution_count": null,
   "id": "fa66f49a-943a-41d1-aa0f-fdb357d0cb15",
   "metadata": {},
   "outputs": [],
   "source": [
    "!nvidia-smi"
   ]
  },
  {
   "cell_type": "code",
   "execution_count": null,
   "id": "9d27d940-7588-419c-8dab-bf4cc7351508",
   "metadata": {
    "tags": []
   },
   "outputs": [],
   "source": [
    "import numpy as np\n",
    "from sklearn.metrics import mean_squared_error, r2_score, mean_absolute_error\n",
    "\n",
    "# 设置参数列表\n",
    "nfeat_bond_list2 = [10]\n",
    "r_cutoff_list2 = [10,12]#越高，计算时间越长，更多的边，键长信息将被处理\n",
    "\n",
    "# 初始化结果记录\n",
    "results2 = []\n",
    "\n",
    "# 循环训练模型\n",
    "for nfeat_bond in nfeat_bond_list2:\n",
    "    for r_cutoff in r_cutoff_list2:\n",
    "        # 设置参数\n",
    "        gaussian_centers = np.linspace(0, r_cutoff+1, nfeat_bond)\n",
    "        gaussian_width = 0.5\n",
    "        graph_converter = CrystalGraph(cutoff=r_cutoff)\n",
    "        \n",
    "        # 初始化模型\n",
    "        model = MEGNetModel(graph_converter=graph_converter, centers=gaussian_centers, width=gaussian_width)\n",
    "        \n",
    "        # 训练模型\n",
    "        model.train(structures, gaps, epochs=100)\n",
    "        \n",
    "        # 预测结果\n",
    "        predictions = []\n",
    "        for structure in structures:\n",
    "            prediction = model.predict_structure(structure)\n",
    "            predictions.append(prediction[0])\n",
    "        \n",
    "        # 计算评估指标\n",
    "        mse = mean_squared_error(gaps, predictions)\n",
    "        rmse = np.sqrt(mse)\n",
    "        mae = mean_absolute_error(gaps, predictions)\n",
    "        r2 = r2_score(gaps, predictions)\n",
    "        \n",
    "        # 记录结果\n",
    "        results2.append({\n",
    "            'nfeat_bond': nfeat_bond,\n",
    "            'r_cutoff': r_cutoff,\n",
    "            'mse': mse,\n",
    "            'rmse': rmse,\n",
    "            'mae': mae,\n",
    "            'r2': r2\n",
    "        })"
   ]
  },
  {
   "cell_type": "code",
   "execution_count": null,
   "id": "ffde07ba-6e92-447e-9204-634e832df8e2",
   "metadata": {},
   "outputs": [],
   "source": [
    "# 打印结果\n",
    "for result in results2:\n",
    "    print(f\"nfeat_bond: {result['nfeat_bond']}, r_cutoff: {result['r_cutoff']}, MSE: {result['mse']}, RMSE: {result['rmse']}, MAE: {result['mae']}, R2: {result['r2']}\")\n"
   ]
  },
  {
   "cell_type": "code",
   "execution_count": null,
   "id": "afbb02e6-47db-402e-aad5-2ea386fd2c79",
   "metadata": {},
   "outputs": [],
   "source": []
  },
  {
   "cell_type": "code",
   "execution_count": null,
   "id": "f5b95f9c-742a-4d86-9210-e3d3379f045d",
   "metadata": {},
   "outputs": [],
   "source": []
  }
 ],
 "metadata": {
  "kernelspec": {
   "display_name": "Python 3 (ipykernel)",
   "language": "python",
   "name": "python3"
  },
  "language_info": {
   "codemirror_mode": {
    "name": "ipython",
    "version": 3
   },
   "file_extension": ".py",
   "mimetype": "text/x-python",
   "name": "python",
   "nbconvert_exporter": "python",
   "pygments_lexer": "ipython3",
   "version": "3.9.7"
  }
 },
 "nbformat": 4,
 "nbformat_minor": 5
}
