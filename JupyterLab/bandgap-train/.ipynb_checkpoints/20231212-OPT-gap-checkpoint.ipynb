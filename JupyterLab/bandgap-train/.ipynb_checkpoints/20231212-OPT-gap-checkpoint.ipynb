{
 "cells": [
  {
   "cell_type": "markdown",
   "id": "db77d915-fb09-41b4-ac05-3037d4d55d6e",
   "metadata": {},
   "source": [
    "# 先用megent先拟合误差，再预测实际带隙（利用之前的108个数据）"
   ]
  },
  {
   "cell_type": "markdown",
   "id": "80f9d53b-632b-4d5a-9a45-770a5ef6530b",
   "metadata": {},
   "source": [
    "# 再预测所有的已经DFT优化完成的结构的实际带隙，并存储成json文件，再用数据看是否csm八面体扭曲和带隙存在一定关系"
   ]
  },
  {
   "cell_type": "code",
   "execution_count": 1,
   "id": "4524f783-182f-4632-b183-e5249b26df23",
   "metadata": {},
   "outputs": [
    {
     "name": "stderr",
     "output_type": "stream",
     "text": [
      "2023-12-12 22:03:15.876665: I tensorflow/core/util/port.cc:113] oneDNN custom operations are on. You may see slightly different numerical results due to floating-point round-off errors from different computation orders. To turn them off, set the environment variable `TF_ENABLE_ONEDNN_OPTS=0`.\n",
      "2023-12-12 22:03:15.923668: E external/local_xla/xla/stream_executor/cuda/cuda_dnn.cc:9261] Unable to register cuDNN factory: Attempting to register factory for plugin cuDNN when one has already been registered\n",
      "2023-12-12 22:03:15.923706: E external/local_xla/xla/stream_executor/cuda/cuda_fft.cc:607] Unable to register cuFFT factory: Attempting to register factory for plugin cuFFT when one has already been registered\n",
      "2023-12-12 22:03:15.924873: E external/local_xla/xla/stream_executor/cuda/cuda_blas.cc:1515] Unable to register cuBLAS factory: Attempting to register factory for plugin cuBLAS when one has already been registered\n",
      "2023-12-12 22:03:15.932091: I tensorflow/core/platform/cpu_feature_guard.cc:182] This TensorFlow binary is optimized to use available CPU instructions in performance-critical operations.\n",
      "To enable the following instructions: AVX2 AVX512F AVX512_VNNI FMA, in other operations, rebuild TensorFlow with the appropriate compiler flags.\n",
      "2023-12-12 22:03:16.761666: W tensorflow/compiler/tf2tensorrt/utils/py_utils.cc:38] TF-TRT Warning: Could not find TensorRT\n"
     ]
    }
   ],
   "source": [
    "import numpy as np\n",
    "from pymatgen.core import Structure\n",
    "from megnet.models import MEGNetModel\n",
    "from megnet.data.crystal import CrystalGraph\n",
    "import json"
   ]
  },
  {
   "cell_type": "code",
   "execution_count": 2,
   "id": "5dcce31b-258a-497c-a476-c8ec37944f25",
   "metadata": {},
   "outputs": [],
   "source": [
    "with open(\"/root/home/jupyter/DFT/bandgap/bandgap_json/DFT_bandgapTrain1.json\", \"r\") as f:\n",
    "    data_train = json.load(f)"
   ]
  },
  {
   "cell_type": "code",
   "execution_count": 3,
   "id": "e23cea83-b4d0-47f3-9f84-f5e02251a4bc",
   "metadata": {},
   "outputs": [],
   "source": [
    "structures = []\n",
    "gaps = []\n",
    "\n",
    "for item in data_train:\n",
    "    structure = Structure.from_dict(item['structure'])\n",
    "    gap = item['real_gap'] - item['bandgap']\n",
    "    structures.append(structure)\n",
    "    gaps.append(gap)"
   ]
  },
  {
   "cell_type": "code",
   "execution_count": 4,
   "id": "1366a146-669c-4a82-ba2a-798c5bdffa60",
   "metadata": {},
   "outputs": [],
   "source": [
    "with open(\"/root/home/jupyter/DFT/bandgap/bandgap_json/DFT_bandgap3Test.json\", \"r\") as f:\n",
    "    data_test = json.load(f)"
   ]
  },
  {
   "cell_type": "code",
   "execution_count": 5,
   "id": "97f0a114-d069-4015-a413-5402e4c4b5a3",
   "metadata": {},
   "outputs": [],
   "source": [
    "structures_test = []\n",
    "DFT_bandgaps = []\n",
    "\n",
    "for item in data_test:\n",
    "    structure = Structure.from_dict(item['structure'])\n",
    "    DFT_bandgap = item['bandgap']\n",
    "    structures_test.append(structure)\n",
    "    DFT_bandgaps.append(DFT_bandgap)"
   ]
  },
  {
   "cell_type": "code",
   "execution_count": 6,
   "id": "a795872d-aa74-42ee-9c4e-4b7e7da45448",
   "metadata": {},
   "outputs": [
    {
     "data": {
      "text/plain": [
       "[{'direct': True, 'energy': 1.6165000000000003, 'transition': 'Z-Z'},\n",
       " {'direct': True, 'energy': 1.6435, 'transition': 'Z-Z'},\n",
       " {'direct': True, 'energy': 1.9423, 'transition': 'Z-Z'},\n",
       " {'direct': True, 'energy': 1.7110999999999998, 'transition': 'Z-Z'},\n",
       " {'direct': True, 'energy': 1.5245000000000002, 'transition': 'Z-Z'}]"
      ]
     },
     "execution_count": 6,
     "metadata": {},
     "output_type": "execute_result"
    }
   ],
   "source": [
    "DFT_bandgaps"
   ]
  },
  {
   "cell_type": "code",
   "execution_count": 7,
   "id": "716642dd-b768-4057-b812-f4bb09eb0304",
   "metadata": {},
   "outputs": [],
   "source": [
    "DFT_bandgaps_test = []\n",
    "for i in DFT_bandgaps:\n",
    "    DFT_bandgaps_test.append(i['energy'])"
   ]
  },
  {
   "cell_type": "code",
   "execution_count": 8,
   "id": "e4dd189b-9252-4682-b102-1cf0e36de55a",
   "metadata": {},
   "outputs": [],
   "source": [
    "with open(\"/root/home/jupyter/DFT/bandgap/bandgap_json/DFT_bandgap2Test.json\", \"r\") as f:\n",
    "    data_test2 = json.load(f)"
   ]
  },
  {
   "cell_type": "code",
   "execution_count": 10,
   "id": "513f2a8c-5f65-4458-ad88-6cce0df0e611",
   "metadata": {
    "collapsed": true,
    "jupyter": {
     "outputs_hidden": true
    },
    "tags": []
   },
   "outputs": [
    {
     "data": {
      "text/plain": [
       "{'structure': {'@module': 'pymatgen.core.structure',\n",
       "  '@class': 'Structure',\n",
       "  'charge': 0,\n",
       "  'lattice': {'matrix': [[12.787734833883398,\n",
       "     4.6395439e-09,\n",
       "     0.0001114544232935],\n",
       "    [-3.044480052e-07, 13.01296343422229, 3.687073349e-07],\n",
       "    [2.45370005896e-05, -2.9869465e-09, 6.518215051538841]],\n",
       "   'pbc': [True, True, True],\n",
       "   'a': 12.7877348343691,\n",
       "   'b': 13.012963434222298,\n",
       "   'c': 6.518215051585025,\n",
       "   'alpha': 89.99999840285068,\n",
       "   'beta': 89.99928494279463,\n",
       "   'gamma': 90.00000131967583,\n",
       "   'volume': 1084.6722174643057},\n",
       "  'sites': [{'species': [{'element': 'Cs', 'occu': 1}],\n",
       "    'abc': [0.2353852677491624, 0.2499999999996913, 0.5000228908551582],\n",
       "    'xyz': [3.010056580728901, 3.253240858150094, 3.259283060192158],\n",
       "    'label': 'Cs',\n",
       "    'properties': {}},\n",
       "   {'species': [{'element': 'H', 'occu': 1}],\n",
       "    'abc': [0.3483412571701052, 0.7500000000005033, 0.499995300304],\n",
       "    'xyz': [4.454507668441863, 9.759722575795951, 3.2591159928446443],\n",
       "    'label': 'H',\n",
       "    'properties': {}},\n",
       "   {'species': [{'element': 'H', 'occu': 1}],\n",
       "    'abc': [0.8494034491295305, 0.2500000000005055, 0.5000164878491916],\n",
       "    'xyz': [10.861958267247257, 3.253240861009472, 3.259309759064589],\n",
       "    'label': 'H',\n",
       "    'properties': {}},\n",
       "   {'species': [{'element': 'H', 'occu': 1}],\n",
       "    'abc': [0.8494919978897137, 0.7500000000004605, 0.5000134450525674],\n",
       "    'xyz': [10.863090453013685, 9.759722578120453, 3.2592901196846524],\n",
       "    'label': 'H',\n",
       "    'properties': {}},\n",
       "   {'species': [{'element': 'H', 'occu': 1}],\n",
       "    'abc': [0.26326998644177, 0.750000000000025, 0.1936501650550523],\n",
       "    'xyz': [3.366631299595643, 9.759722576310072, 1.2622830397298335],\n",
       "    'label': 'H',\n",
       "    'properties': {}},\n",
       "   {'species': [{'element': 'H', 'occu': 1}],\n",
       "    'abc': [0.7643171818689767, 0.2499999899999981, 0.1935598207250169],\n",
       "    'xyz': [9.773890123986943, 3.2532407313938436, 1.2617498155305136],\n",
       "    'label': 'H',\n",
       "    'properties': {}},\n",
       "   {'species': [{'element': 'H', 'occu': 1}],\n",
       "    'abc': [0.7631613950898934, 0.750000000000043, 0.1929212405610367],\n",
       "    'xyz': [9.759110061238669, 9.759722578631752, 1.257587468230166],\n",
       "    'label': 'H',\n",
       "    'properties': {}},\n",
       "   {'species': [{'element': 'H', 'occu': 1}],\n",
       "    'abc': [0.1373361716128938, 0.7499999900002402, 0.2999347947776523],\n",
       "    'xyz': [1.756225676850626, 9.759722445281495, 1.9550550770542086],\n",
       "    'label': 'H',\n",
       "    'properties': {}},\n",
       "   {'species': [{'element': 'H', 'occu': 1}],\n",
       "    'abc': [0.6384465569357773, 0.2499999900000046, 0.2990573416437034],\n",
       "    'xyz': [8.16429253755873, 3.2532407304948308, 1.9493913154448181],\n",
       "    'label': 'H',\n",
       "    'properties': {}},\n",
       "   {'species': [{'element': 'H', 'occu': 1}],\n",
       "    'abc': [0.6383971951856295, 0.7499999900001957, 0.3015107130922353],\n",
       "    'xyz': [8.163661220561279, 9.759722447600904, 1.9653830969997366],\n",
       "    'label': 'H',\n",
       "    'properties': {}},\n",
       "   {'species': [{'element': 'H', 'occu': 1}],\n",
       "    'abc': [0.1373482537260365, 0.7500000099984454, 0.7000651853767781],\n",
       "    'xyz': [1.7563899977093516, 9.759722704322296, 4.563191012982158],\n",
       "    'label': 'H',\n",
       "    'properties': {}},\n",
       "   {'species': [{'element': 'H', 'occu': 1}],\n",
       "    'abc': [0.638450829506065, 0.2500000099986313, 0.7009679626571307],\n",
       "    'xyz': [8.164357035735769, 3.253240989535763, 4.569131175184067],\n",
       "    'label': 'H',\n",
       "    'properties': {}},\n",
       "   {'species': [{'element': 'H', 'occu': 1}],\n",
       "    'abc': [0.6384089470503792, 0.7499999999984269, 0.6984962876194344],\n",
       "    'xyz': [8.163821241126774, 9.759722576521803, 4.553020445436521],\n",
       "    'label': 'H',\n",
       "    'properties': {}},\n",
       "   {'species': [{'element': 'H', 'occu': 1}],\n",
       "    'abc': [0.2632671945526637, 0.7500000000000728, 0.8063225694324357],\n",
       "    'xyz': [3.3666106308012127, 9.75972257448066, 5.255813527293817],\n",
       "    'label': 'H',\n",
       "    'properties': {}},\n",
       "   {'species': [{'element': 'H', 'occu': 1}],\n",
       "    'abc': [0.7643145375032893, 0.2500000100002028, 0.806464964480071],\n",
       "    'xyz': [9.773871347393596, 3.2532409898250485, 5.2567973484255655],\n",
       "    'label': 'H',\n",
       "    'properties': {}},\n",
       "   {'species': [{'element': 'H', 'occu': 1}],\n",
       "    'abc': [0.7631492828205968, 0.750000000000346, 0.8070831912891779],\n",
       "    'xyz': [9.758970242442814, 9.759722576801169, 5.2608271381988265],\n",
       "    'label': 'H',\n",
       "    'properties': {}},\n",
       "   {'species': [{'element': 'Pb', 'occu': 1}],\n",
       "    'abc': [0.4746707539708381, 0.0036961190405515, 8.0425709427e-06],\n",
       "    'xyz': [6.069963734250647, 0.04809746412546122, 0.00010532872489608757],\n",
       "    'label': 'Pb',\n",
       "    'properties': {}},\n",
       "   {'species': [{'element': 'Pb', 'occu': 1}],\n",
       "    'abc': [0.4746707539685127, 0.4963038809602739, 8.0225692019e-06],\n",
       "    'xyz': [6.0699635842469695, 6.458384257400888, 0.00010537997734293733],\n",
       "    'label': 'Pb',\n",
       "    'properties': {}},\n",
       "   {'species': [{'element': 'Pb', 'occu': 1}],\n",
       "    'abc': [0.9747306380589654, 0.0034191601564908, -2.285664675e-07],\n",
       "    'xyz': [12.464596932913459, 0.044493410614470805, 0.00010714945641206061],\n",
       "    'label': 'Pb',\n",
       "    'properties': {}},\n",
       "   {'species': [{'element': 'Pb', 'occu': 1}],\n",
       "    'abc': [0.9747306380586898, 0.4965808398426328, -2.485677777e-07],\n",
       "    'xyz': [12.464596782767353, 6.461988315529882, 0.00010720091589942563],\n",
       "    'label': 'Pb',\n",
       "    'properties': {}},\n",
       "   {'species': [{'element': 'C', 'occu': 1}],\n",
       "    'abc': [0.2629563705278862, 0.7499999999999184, 0.4999967242656874],\n",
       "    'xyz': [3.362628379274914, 9.759722575392189, 3.259115758009849],\n",
       "    'label': 'C',\n",
       "    'properties': {}},\n",
       "   {'species': [{'element': 'C', 'occu': 1}],\n",
       "    'abc': [0.7639569531815887, 0.2499999999999329, 0.4999963515078423],\n",
       "    'xyz': [9.769291134086401, 3.2532408606056484, 3.2591689826713943],\n",
       "    'label': 'C',\n",
       "    'properties': {}},\n",
       "   {'species': [{'element': 'C', 'occu': 1}],\n",
       "    'abc': [0.764144323323415, 0.7499999999998713, 0.4999908784808705],\n",
       "    'xyz': [9.771687021417568, 9.759722577716879, 3.259133513541508],\n",
       "    'label': 'C',\n",
       "    'properties': {}},\n",
       "   {'species': [{'element': 'I', 'occu': 1}],\n",
       "    'abc': [0.4689936236715453, 0.0025650940879882, 0.4999934127815057],\n",
       "    'xyz': [5.997378365851548, 0.03337947625479315, 3.259116861222307],\n",
       "    'label': 'I',\n",
       "    'properties': {}},\n",
       "   {'species': [{'element': 'I', 'occu': 1}],\n",
       "    'abc': [0.4689936236732223, 0.4974349059112774, 0.4999934027792349],\n",
       "    'xyz': [5.99737821521062, 6.473102242211721, 3.2591169784874845],\n",
       "    'label': 'I',\n",
       "    'properties': {}},\n",
       "   {'species': [{'element': 'I', 'occu': 1}],\n",
       "    'abc': [-0.0138620414695261, -0.0023859046412456, 0.4999955990063203],\n",
       "    'xyz': [-0.1772518414499036, -0.031047691411843898, 3.2590772932806376],\n",
       "    'label': 'I',\n",
       "    'properties': {}},\n",
       "   {'species': [{'element': 'I', 'occu': 1}],\n",
       "    'abc': [-0.0138620414676145, 0.5023859046432014, 0.4999955990036419],\n",
       "    'xyz': [-0.17725199510222905, 6.537529405432892, 3.259077479376248],\n",
       "    'label': 'I',\n",
       "    'properties': {}},\n",
       "   {'species': [{'element': 'I', 'occu': 1}],\n",
       "    'abc': [0.2220355036689687, 0.032999625674452, 4.145883164e-07],\n",
       "    'xyz': [2.8393311345900187, 0.42942292327480913, 2.7461382020292465e-05],\n",
       "    'label': 'I',\n",
       "    'properties': {}},\n",
       "   {'species': [{'element': 'I', 'occu': 1}],\n",
       "    'abc': [0.2220355036699937, 0.467000374326024, 6.745881745e-07],\n",
       "    'xyz': [2.8393310024788434, 6.077058795902813, 2.931613626825201e-05],\n",
       "    'label': 'I',\n",
       "    'properties': {}},\n",
       "   {'species': [{'element': 'I', 'occu': 1}],\n",
       "    'abc': [0.7220853601988372, 0.9926254109172773, -2.3368147368e-05],\n",
       "    'xyz': [9.2338358108757, 12.91699817949662, -7.14730142412214e-05],\n",
       "    'label': 'I',\n",
       "    'properties': {}},\n",
       "   {'species': [{'element': 'I', 'occu': 1}],\n",
       "    'abc': [0.7220853601994924, 0.5073745890829836, -2.33681486607e-05],\n",
       "    'xyz': [9.233835958617723, 6.602446978540642, -7.165193820452153e-05],\n",
       "    'label': 'I',\n",
       "    'properties': {}},\n",
       "   {'species': [{'element': 'I', 'occu': 1}],\n",
       "    'abc': [0.4751666945960517, 0.2499999999987512, 6.4795260256e-06],\n",
       "    'xyz': [6.076305616434152, 3.2532408607438588, 9.52865508151097e-05],\n",
       "    'label': 'I',\n",
       "    'properties': {}},\n",
       "   {'species': [{'element': 'I', 'occu': 1}],\n",
       "    'abc': [0.4551479077203179, 0.7500000000012751, -1.04268790044e-05],\n",
       "    'xyz': [5.820310525532407, 9.75972257779502, -1.695986159766775e-05],\n",
       "    'label': 'I',\n",
       "    'properties': {}},\n",
       "   {'species': [{'element': 'I', 'occu': 1}],\n",
       "    'abc': [0.9529754659245601, 0.250000000001759, -9.10880436e-07],\n",
       "    'xyz': [12.186397485305406, 3.253240862999836, 0.0001003681932331145],\n",
       "    'label': 'I',\n",
       "    'properties': {}},\n",
       "   {'species': [{'element': 'I', 'occu': 1}],\n",
       "    'abc': [0.9684339259831222, 0.7500000000003776, -5.4233423429e-06],\n",
       "    'xyz': [12.384076021139752, 9.759722580164738, 7.286226353034538e-05],\n",
       "    'label': 'I',\n",
       "    'properties': {}},\n",
       "   {'species': [{'element': 'N', 'occu': 1}],\n",
       "    'abc': [0.2164807973616624, 0.7499999999998201, 0.3205262768103971],\n",
       "    'xyz': [2.7683066697060226, 9.759722575711354, 2.0892836061921605],\n",
       "    'label': 'N',\n",
       "    'properties': {}},\n",
       "   {'species': [{'element': 'N', 'occu': 1}],\n",
       "    'abc': [0.7175859857794668, 0.2499999899997777, 0.3205799192231946],\n",
       "    'xyz': [9.176307096616313, 3.253240730794762, 2.0896889250107717],\n",
       "    'label': 'N',\n",
       "    'properties': {}},\n",
       "   {'species': [{'element': 'N', 'occu': 1}],\n",
       "    'abc': [0.717511415359421, 0.749999989999791, 0.3208079341266354],\n",
       "    'xyz': [9.175353363229116, 9.759722447905052, 2.0911753512288187],\n",
       "    'label': 'N',\n",
       "    'properties': {}},\n",
       "   {'species': [{'element': 'N', 'occu': 1}],\n",
       "    'abc': [0.216483559539951, 0.7499999999996758, 0.6794863979560649],\n",
       "    'xyz': [2.7683507995142453, 9.759722574637294, 4.429062871053915],\n",
       "    'label': 'N',\n",
       "    'properties': {}},\n",
       "   {'species': [{'element': 'N', 'occu': 1}],\n",
       "    'abc': [0.7175855161505517, 0.2500000099996947, 0.6794503781504021],\n",
       "    'xyz': [9.176309896730933, 3.253240989981021, 4.428883751890412],\n",
       "    'label': 'N',\n",
       "    'properties': {}},\n",
       "   {'species': [{'element': 'N', 'occu': 1}],\n",
       "    'abc': [0.7175148841176021, 0.7500000099996549, 0.6791782058269672],\n",
       "    'xyz': [9.175406514120501, 9.759722707092134, 4.427109850636602],\n",
       "    'label': 'N',\n",
       "    'properties': {}}]},\n",
       " 'bandgap': {'direct': True,\n",
       "  'energy': 1.5330999999999997,\n",
       "  'transition': 'B-B'}}"
      ]
     },
     "execution_count": 10,
     "metadata": {},
     "output_type": "execute_result"
    }
   ],
   "source": [
    "data_test2[0]"
   ]
  },
  {
   "cell_type": "code",
   "execution_count": 11,
   "id": "4abfb5cb-e9d8-4404-bdc9-9738aadbafce",
   "metadata": {},
   "outputs": [],
   "source": [
    "structure_test2 = Structure.from_dict(data_test2[0]['structure'])\n",
    "DFT_bandgap = data_test2[0]['bandgap']['energy']\n"
   ]
  },
  {
   "cell_type": "code",
   "execution_count": 13,
   "id": "d7f890fb-2ed6-4714-b396-016caeacd461",
   "metadata": {},
   "outputs": [
    {
     "data": {
      "text/plain": [
       "'Cs1 H15 Pb4 C3 I12 N6'"
      ]
     },
     "execution_count": 13,
     "metadata": {},
     "output_type": "execute_result"
    }
   ],
   "source": [
    "structure_test2.formula #有一个测试集计算错误"
   ]
  },
  {
   "cell_type": "code",
   "execution_count": 14,
   "id": "f77813e4-6690-4796-a5a0-7e1e8e8c4d20",
   "metadata": {},
   "outputs": [
    {
     "data": {
      "text/plain": [
       "1.5330999999999997"
      ]
     },
     "execution_count": 14,
     "metadata": {},
     "output_type": "execute_result"
    }
   ],
   "source": [
    "DFT_bandgap"
   ]
  },
  {
   "cell_type": "code",
   "execution_count": 15,
   "id": "73e5c760-1dc6-4e21-b12e-e7b378d8b25f",
   "metadata": {},
   "outputs": [],
   "source": [
    "structures_test.append(structure_test2)"
   ]
  },
  {
   "cell_type": "code",
   "execution_count": 16,
   "id": "8542a356-327a-4728-8886-ace5f8a2a9c1",
   "metadata": {},
   "outputs": [],
   "source": [
    "DFT_bandgaps_test.append(DFT_bandgap)"
   ]
  },
  {
   "cell_type": "code",
   "execution_count": 17,
   "id": "d5034f61-cc62-4185-832e-811e0c014412",
   "metadata": {},
   "outputs": [
    {
     "name": "stdout",
     "output_type": "stream",
     "text": [
      "6\n",
      "6\n"
     ]
    }
   ],
   "source": [
    "print(len(structures_test))\n",
    "print(len(DFT_bandgaps_test))\n"
   ]
  },
  {
   "cell_type": "code",
   "execution_count": 18,
   "id": "28e36245-4466-4331-91d7-b7166e6af99f",
   "metadata": {},
   "outputs": [],
   "source": [
    "real_gaps_test = [ 1.75, 2.14, 2.28, 1.83, 1.61,1.57] "
   ]
  },
  {
   "cell_type": "code",
   "execution_count": 19,
   "id": "0bc58508-560d-4a13-b38b-403899ea8ed0",
   "metadata": {},
   "outputs": [
    {
     "name": "stdout",
     "output_type": "stream",
     "text": [
      "H22 Pb4 C4 I8 Br4 N6\n",
      "H22 Pb4 C4 I2 Br10 N6\n",
      "H22 Pb4 C4 Br12 N6\n",
      "H22 Pb4 C4 I6 Br6 N6\n",
      "H22 Pb4 C4 I10 Br2 N6\n",
      "Cs1 H15 Pb4 C3 I12 N6\n"
     ]
    }
   ],
   "source": [
    "for i in structures_test:\n",
    "    print(i.formula)"
   ]
  },
  {
   "cell_type": "code",
   "execution_count": 20,
   "id": "b96ab359-136f-4aa9-9b40-678827b5984f",
   "metadata": {},
   "outputs": [
    {
     "data": {
      "text/plain": [
       "[1.6165000000000003,\n",
       " 1.6435,\n",
       " 1.9423,\n",
       " 1.7110999999999998,\n",
       " 1.5245000000000002,\n",
       " 1.5330999999999997]"
      ]
     },
     "execution_count": 20,
     "metadata": {},
     "output_type": "execute_result"
    }
   ],
   "source": [
    "DFT_bandgaps_test"
   ]
  },
  {
   "cell_type": "code",
   "execution_count": 21,
   "id": "5b2c5597-e20b-4541-941d-938ad9fc2edf",
   "metadata": {},
   "outputs": [
    {
     "name": "stdout",
     "output_type": "stream",
     "text": [
      "[0.13349999999999973, 0.49650000000000016, 0.3376999999999999, 0.11890000000000023, 0.08549999999999991, 0.03690000000000038]\n"
     ]
    }
   ],
   "source": [
    "# 使用列表推导式计算对应位置元素的差值  \n",
    "gaps_test = [real - DFT for real, DFT in zip(real_gaps_test, DFT_bandgaps_test)]  \n",
    "  \n",
    "print(gaps_test)  # 输出新列表，包含对应位置元素的差值"
   ]
  },
  {
   "cell_type": "code",
   "execution_count": 22,
   "id": "4e0f19d9-570c-4ac5-823b-f0bbec541673",
   "metadata": {},
   "outputs": [
    {
     "data": {
      "text/plain": [
       "6"
      ]
     },
     "execution_count": 22,
     "metadata": {},
     "output_type": "execute_result"
    }
   ],
   "source": [
    "len(gaps_test)"
   ]
  },
  {
   "cell_type": "code",
   "execution_count": 23,
   "id": "2040a3cd-1224-4c53-8a9b-89af506f90f7",
   "metadata": {},
   "outputs": [
    {
     "name": "stdout",
     "output_type": "stream",
     "text": [
      "108\n",
      "108\n"
     ]
    }
   ],
   "source": [
    "new_gaps = gaps+gaps_test\n",
    "new_structures = structures + structures_test\n",
    "print(len(new_gaps))\n",
    "print(len(new_structures))"
   ]
  },
  {
   "cell_type": "code",
   "execution_count": null,
   "id": "e70aca4e-8c41-4526-8f9a-f971529b51b2",
   "metadata": {},
   "outputs": [],
   "source": []
  },
  {
   "cell_type": "markdown",
   "id": "4294a9d1-68b6-4c84-932c-6362d5f8f1c5",
   "metadata": {},
   "source": [
    "# 直接用108个数据拟合对象"
   ]
  },
  {
   "cell_type": "code",
   "execution_count": 24,
   "id": "ba6405e0-444b-4244-8cac-dc6b2563bd65",
   "metadata": {
    "collapsed": true,
    "jupyter": {
     "outputs_hidden": true
    },
    "tags": []
   },
   "outputs": [
    {
     "name": "stderr",
     "output_type": "stream",
     "text": [
      "2023-12-12 22:08:18.688397: I external/local_xla/xla/stream_executor/cuda/cuda_executor.cc:901] successful NUMA node read from SysFS had negative value (-1), but there must be at least one NUMA node, so returning NUMA node zero. See more at https://github.com/torvalds/linux/blob/v6.0/Documentation/ABI/testing/sysfs-bus-pci#L344-L355\n",
      "2023-12-12 22:08:19.323538: I external/local_xla/xla/stream_executor/cuda/cuda_executor.cc:901] successful NUMA node read from SysFS had negative value (-1), but there must be at least one NUMA node, so returning NUMA node zero. See more at https://github.com/torvalds/linux/blob/v6.0/Documentation/ABI/testing/sysfs-bus-pci#L344-L355\n",
      "2023-12-12 22:08:19.323800: I external/local_xla/xla/stream_executor/cuda/cuda_executor.cc:901] successful NUMA node read from SysFS had negative value (-1), but there must be at least one NUMA node, so returning NUMA node zero. See more at https://github.com/torvalds/linux/blob/v6.0/Documentation/ABI/testing/sysfs-bus-pci#L344-L355\n",
      "2023-12-12 22:08:19.324889: I external/local_xla/xla/stream_executor/cuda/cuda_executor.cc:901] successful NUMA node read from SysFS had negative value (-1), but there must be at least one NUMA node, so returning NUMA node zero. See more at https://github.com/torvalds/linux/blob/v6.0/Documentation/ABI/testing/sysfs-bus-pci#L344-L355\n",
      "2023-12-12 22:08:19.325107: I external/local_xla/xla/stream_executor/cuda/cuda_executor.cc:901] successful NUMA node read from SysFS had negative value (-1), but there must be at least one NUMA node, so returning NUMA node zero. See more at https://github.com/torvalds/linux/blob/v6.0/Documentation/ABI/testing/sysfs-bus-pci#L344-L355\n",
      "2023-12-12 22:08:19.325248: I external/local_xla/xla/stream_executor/cuda/cuda_executor.cc:901] successful NUMA node read from SysFS had negative value (-1), but there must be at least one NUMA node, so returning NUMA node zero. See more at https://github.com/torvalds/linux/blob/v6.0/Documentation/ABI/testing/sysfs-bus-pci#L344-L355\n",
      "2023-12-12 22:08:19.440137: I external/local_xla/xla/stream_executor/cuda/cuda_executor.cc:901] successful NUMA node read from SysFS had negative value (-1), but there must be at least one NUMA node, so returning NUMA node zero. See more at https://github.com/torvalds/linux/blob/v6.0/Documentation/ABI/testing/sysfs-bus-pci#L344-L355\n",
      "2023-12-12 22:08:19.440339: I external/local_xla/xla/stream_executor/cuda/cuda_executor.cc:901] successful NUMA node read from SysFS had negative value (-1), but there must be at least one NUMA node, so returning NUMA node zero. See more at https://github.com/torvalds/linux/blob/v6.0/Documentation/ABI/testing/sysfs-bus-pci#L344-L355\n",
      "2023-12-12 22:08:19.440493: I external/local_xla/xla/stream_executor/cuda/cuda_executor.cc:901] successful NUMA node read from SysFS had negative value (-1), but there must be at least one NUMA node, so returning NUMA node zero. See more at https://github.com/torvalds/linux/blob/v6.0/Documentation/ABI/testing/sysfs-bus-pci#L344-L355\n",
      "2023-12-12 22:08:19.440616: I tensorflow/core/common_runtime/gpu/gpu_device.cc:1929] Created device /job:localhost/replica:0/task:0/device:GPU:0 with 31142 MB memory:  -> device: 0, name: Tesla V100-SXM2-32GB, pci bus id: 0000:00:08.0, compute capability: 7.0\n",
      "/opt/tefscloud/miniconda3/lib/python3.9/site-packages/keras/src/initializers/initializers.py:120: UserWarning: The initializer GlorotUniform is unseeded and being called multiple times, which will return identical values each time (even if the initializer is unseeded). Please update your code to provide a seed to the initializer, or avoid using the same initializer instance more than once.\n",
      "  warnings.warn(\n",
      "2023-12-12 22:08:21.237064: I external/local_tsl/tsl/platform/default/subprocess.cc:304] Start cannot spawn child process: No such file or directory\n"
     ]
    }
   ],
   "source": [
    "nfeat_bond = 10\n",
    "r_cutoff = 8\n",
    "gaussian_centers = np.linspace(0, r_cutoff+1, nfeat_bond)\n",
    "gaussian_width = 0.5\n",
    "graph_converter = CrystalGraph(cutoff=r_cutoff)\n",
    "model = MEGNetModel(graph_converter=graph_converter, centers=gaussian_centers, width=gaussian_width)"
   ]
  },
  {
   "cell_type": "code",
   "execution_count": 25,
   "id": "118eabc8-b75f-4cf6-8792-c1185772a74b",
   "metadata": {
    "collapsed": true,
    "jupyter": {
     "outputs_hidden": true
    },
    "tags": []
   },
   "outputs": [
    {
     "name": "stdout",
     "output_type": "stream",
     "text": [
      "Epoch 1/200\n"
     ]
    },
    {
     "name": "stderr",
     "output_type": "stream",
     "text": [
      "2023-12-12 22:08:44.024524: I external/local_xla/xla/service/service.cc:168] XLA service 0x7f0dad9cd010 initialized for platform CUDA (this does not guarantee that XLA will be used). Devices:\n",
      "2023-12-12 22:08:44.024564: I external/local_xla/xla/service/service.cc:176]   StreamExecutor device (0): Tesla V100-SXM2-32GB, Compute Capability 7.0\n",
      "2023-12-12 22:08:44.030167: I tensorflow/compiler/mlir/tensorflow/utils/dump_mlir_util.cc:269] disabling MLIR crash reproducer, set env var `MLIR_CRASH_REPRODUCER_DIRECTORY` to enable.\n",
      "2023-12-12 22:08:44.071969: I external/local_xla/xla/stream_executor/cuda/cuda_dnn.cc:454] Loaded cuDNN version 8904\n",
      "WARNING: All log messages before absl::InitializeLog() is called are written to STDERR\n",
      "I0000 00:00:1702390124.162463   35003 device_compiler.h:186] Compiled cluster using XLA!  This line is logged at most once for the lifetime of the process.\n"
     ]
    },
    {
     "name": "stdout",
     "output_type": "stream",
     "text": [
      "1/1 [==============================] - 28s 28s/step - loss: 0.1445\n",
      "Epoch 2/200\n",
      "1/1 [==============================] - 1s 1s/step - loss: 0.1429\n",
      "Epoch 3/200\n",
      "1/1 [==============================] - 1s 1s/step - loss: 0.1434\n",
      "Epoch 4/200\n",
      "1/1 [==============================] - 1s 1s/step - loss: 0.1430\n",
      "Epoch 5/200\n",
      "1/1 [==============================] - 1s 1s/step - loss: 0.1422\n",
      "Epoch 6/200\n",
      "1/1 [==============================] - 1s 1s/step - loss: 0.1419\n",
      "Epoch 7/200\n",
      "1/1 [==============================] - 1s 1s/step - loss: 0.1418\n",
      "Epoch 8/200\n",
      "1/1 [==============================] - 1s 1s/step - loss: 0.1416\n",
      "Epoch 9/200\n",
      "1/1 [==============================] - 1s 1s/step - loss: 0.1411\n",
      "Epoch 10/200\n",
      "1/1 [==============================] - 1s 1s/step - loss: 0.1404\n",
      "Epoch 11/200\n",
      "1/1 [==============================] - 1s 1s/step - loss: 0.1399\n",
      "Epoch 12/200\n",
      "1/1 [==============================] - 1s 1s/step - loss: 0.1394\n",
      "Epoch 13/200\n",
      "1/1 [==============================] - 1s 1s/step - loss: 0.1386\n",
      "Epoch 14/200\n",
      "1/1 [==============================] - 1s 993ms/step - loss: 0.1374\n",
      "Epoch 15/200\n",
      "1/1 [==============================] - 1s 1s/step - loss: 0.1361\n",
      "Epoch 16/200\n",
      "1/1 [==============================] - 1s 988ms/step - loss: 0.1348\n",
      "Epoch 17/200\n",
      "1/1 [==============================] - 1s 1s/step - loss: 0.1329\n",
      "Epoch 18/200\n",
      "1/1 [==============================] - 1s 1s/step - loss: 0.1304\n",
      "Epoch 19/200\n",
      "1/1 [==============================] - 1s 1s/step - loss: 0.1278\n",
      "Epoch 20/200\n",
      "1/1 [==============================] - 1s 1s/step - loss: 0.1244\n",
      "Epoch 21/200\n",
      "1/1 [==============================] - 1s 1s/step - loss: 0.1206\n",
      "Epoch 22/200\n",
      "1/1 [==============================] - 1s 988ms/step - loss: 0.1176\n",
      "Epoch 23/200\n",
      "1/1 [==============================] - 1s 1s/step - loss: 0.1167\n",
      "Epoch 24/200\n",
      "1/1 [==============================] - 1s 1s/step - loss: 0.1184\n",
      "Epoch 25/200\n",
      "1/1 [==============================] - 1s 1s/step - loss: 0.1185\n",
      "Epoch 26/200\n",
      "1/1 [==============================] - 1s 998ms/step - loss: 0.1162\n",
      "Epoch 27/200\n",
      "1/1 [==============================] - 1s 1s/step - loss: 0.1132\n",
      "Epoch 28/200\n",
      "1/1 [==============================] - 1s 1s/step - loss: 0.1119\n",
      "Epoch 29/200\n",
      "1/1 [==============================] - 1s 1s/step - loss: 0.1109\n",
      "Epoch 30/200\n",
      "1/1 [==============================] - 1s 1s/step - loss: 0.1106\n",
      "Epoch 31/200\n",
      "1/1 [==============================] - 1s 992ms/step - loss: 0.1097\n",
      "Epoch 32/200\n",
      "1/1 [==============================] - 1s 1s/step - loss: 0.1088\n",
      "Epoch 33/200\n",
      "1/1 [==============================] - 1s 1s/step - loss: 0.1072\n",
      "Epoch 34/200\n",
      "1/1 [==============================] - 1s 1s/step - loss: 0.1055\n",
      "Epoch 35/200\n",
      "1/1 [==============================] - 1s 999ms/step - loss: 0.1033\n",
      "Epoch 36/200\n",
      "1/1 [==============================] - 1s 1s/step - loss: 0.1015\n",
      "Epoch 37/200\n",
      "1/1 [==============================] - 1s 1s/step - loss: 0.1000\n",
      "Epoch 38/200\n",
      "1/1 [==============================] - 1s 1s/step - loss: 0.0988\n",
      "Epoch 39/200\n",
      "1/1 [==============================] - 1s 1s/step - loss: 0.0971\n",
      "Epoch 40/200\n",
      "1/1 [==============================] - 1s 1s/step - loss: 0.0946\n",
      "Epoch 41/200\n",
      "1/1 [==============================] - 1s 999ms/step - loss: 0.0918\n",
      "Epoch 42/200\n",
      "1/1 [==============================] - 1s 994ms/step - loss: 0.0894\n",
      "Epoch 43/200\n",
      "1/1 [==============================] - 1s 996ms/step - loss: 0.0873\n",
      "Epoch 44/200\n",
      "1/1 [==============================] - 1s 1s/step - loss: 0.0860\n",
      "Epoch 45/200\n",
      "1/1 [==============================] - 1s 1s/step - loss: 0.0853\n",
      "Epoch 46/200\n",
      "1/1 [==============================] - 1s 995ms/step - loss: 0.0831\n",
      "Epoch 47/200\n",
      "1/1 [==============================] - 1s 1s/step - loss: 0.0780\n",
      "Epoch 48/200\n",
      "1/1 [==============================] - 1s 1s/step - loss: 0.0784\n",
      "Epoch 49/200\n",
      "1/1 [==============================] - 1s 997ms/step - loss: 0.0806\n",
      "Epoch 50/200\n",
      "1/1 [==============================] - 1s 1s/step - loss: 0.0749\n",
      "Epoch 51/200\n",
      "1/1 [==============================] - 1s 1000ms/step - loss: 0.0711\n",
      "Epoch 52/200\n",
      "1/1 [==============================] - 1s 1s/step - loss: 0.0735\n",
      "Epoch 53/200\n",
      "1/1 [==============================] - 1s 1s/step - loss: 0.0674\n",
      "Epoch 54/200\n",
      "1/1 [==============================] - 1s 1s/step - loss: 0.0655\n",
      "Epoch 55/200\n",
      "1/1 [==============================] - 1s 996ms/step - loss: 0.0664\n",
      "Epoch 56/200\n",
      "1/1 [==============================] - 1s 1s/step - loss: 0.0600\n",
      "Epoch 57/200\n",
      "1/1 [==============================] - 1s 1s/step - loss: 0.0534\n",
      "Epoch 58/200\n",
      "1/1 [==============================] - 1s 1s/step - loss: 0.0520\n",
      "Epoch 59/200\n",
      "1/1 [==============================] - 1s 1s/step - loss: 0.0711\n",
      "Epoch 60/200\n",
      "1/1 [==============================] - 1s 1000ms/step - loss: 0.1042\n",
      "Epoch 61/200\n",
      "1/1 [==============================] - 1s 998ms/step - loss: 0.0426\n",
      "Epoch 62/200\n",
      "1/1 [==============================] - 1s 999ms/step - loss: 0.0848\n",
      "Epoch 63/200\n",
      "1/1 [==============================] - 1s 1s/step - loss: 0.0505\n",
      "Epoch 64/200\n",
      "1/1 [==============================] - 1s 1s/step - loss: 0.0616\n",
      "Epoch 65/200\n",
      "1/1 [==============================] - 1s 1s/step - loss: 0.0702\n",
      "Epoch 66/200\n",
      "1/1 [==============================] - 1s 1s/step - loss: 0.0505\n",
      "Epoch 67/200\n",
      "1/1 [==============================] - 1s 1s/step - loss: 0.0592\n",
      "Epoch 68/200\n",
      "1/1 [==============================] - 1s 1s/step - loss: 0.0629\n",
      "Epoch 69/200\n",
      "1/1 [==============================] - 1s 1s/step - loss: 0.0461\n",
      "Epoch 70/200\n",
      "1/1 [==============================] - 1s 1s/step - loss: 0.0531\n",
      "Epoch 71/200\n",
      "1/1 [==============================] - 1s 1s/step - loss: 0.0493\n",
      "Epoch 72/200\n",
      "1/1 [==============================] - 1s 999ms/step - loss: 0.0374\n",
      "Epoch 73/200\n",
      "1/1 [==============================] - 1s 992ms/step - loss: 0.0483\n",
      "Epoch 74/200\n",
      "1/1 [==============================] - 1s 1s/step - loss: 0.0300\n",
      "Epoch 75/200\n",
      "1/1 [==============================] - 1s 1s/step - loss: 0.0436\n",
      "Epoch 76/200\n",
      "1/1 [==============================] - 1s 1s/step - loss: 0.0363\n",
      "Epoch 77/200\n",
      "1/1 [==============================] - 1s 995ms/step - loss: 0.0248\n",
      "Epoch 78/200\n",
      "1/1 [==============================] - 1s 991ms/step - loss: 0.0407\n",
      "Epoch 79/200\n",
      "1/1 [==============================] - 1s 1000ms/step - loss: 0.0308\n",
      "Epoch 80/200\n",
      "1/1 [==============================] - 1s 1s/step - loss: 0.0226\n",
      "Epoch 81/200\n",
      "1/1 [==============================] - 1s 1s/step - loss: 0.0343\n",
      "Epoch 82/200\n",
      "1/1 [==============================] - 1s 996ms/step - loss: 0.0232\n",
      "Epoch 83/200\n",
      "1/1 [==============================] - 1s 998ms/step - loss: 0.0287\n",
      "Epoch 84/200\n",
      "1/1 [==============================] - 1s 1s/step - loss: 0.0267\n",
      "Epoch 85/200\n",
      "1/1 [==============================] - 1s 1s/step - loss: 0.0221\n",
      "Epoch 86/200\n",
      "1/1 [==============================] - 1s 1s/step - loss: 0.0276\n",
      "Epoch 87/200\n",
      "1/1 [==============================] - 1s 1s/step - loss: 0.0194\n",
      "Epoch 88/200\n",
      "1/1 [==============================] - 1s 998ms/step - loss: 0.0227\n",
      "Epoch 89/200\n",
      "1/1 [==============================] - 1s 997ms/step - loss: 0.0258\n",
      "Epoch 90/200\n",
      "1/1 [==============================] - 1s 987ms/step - loss: 0.0193\n",
      "Epoch 91/200\n",
      "1/1 [==============================] - 1s 1s/step - loss: 0.0214\n",
      "Epoch 92/200\n",
      "1/1 [==============================] - 1s 1000ms/step - loss: 0.0243\n",
      "Epoch 93/200\n",
      "1/1 [==============================] - 1s 1s/step - loss: 0.0188\n",
      "Epoch 94/200\n",
      "1/1 [==============================] - 1s 1s/step - loss: 0.0202\n",
      "Epoch 95/200\n",
      "1/1 [==============================] - 1s 1s/step - loss: 0.0210\n",
      "Epoch 96/200\n",
      "1/1 [==============================] - 1s 1s/step - loss: 0.0181\n",
      "Epoch 97/200\n",
      "1/1 [==============================] - 1s 1s/step - loss: 0.0208\n",
      "Epoch 98/200\n",
      "1/1 [==============================] - 1s 1s/step - loss: 0.0184\n",
      "Epoch 99/200\n",
      "1/1 [==============================] - 1s 997ms/step - loss: 0.0187\n",
      "Epoch 100/200\n",
      "1/1 [==============================] - 1s 1s/step - loss: 0.0193\n",
      "Epoch 101/200\n",
      "1/1 [==============================] - 1s 1s/step - loss: 0.0171\n",
      "Epoch 102/200\n",
      "1/1 [==============================] - 1s 997ms/step - loss: 0.0185\n",
      "Epoch 103/200\n",
      "1/1 [==============================] - 1s 997ms/step - loss: 0.0183\n",
      "Epoch 104/200\n",
      "1/1 [==============================] - 1s 989ms/step - loss: 0.0168\n",
      "Epoch 105/200\n",
      "1/1 [==============================] - 1s 1s/step - loss: 0.0177\n",
      "Epoch 106/200\n",
      "1/1 [==============================] - 1s 990ms/step - loss: 0.0178\n",
      "Epoch 107/200\n",
      "1/1 [==============================] - 1s 1s/step - loss: 0.0164\n",
      "Epoch 108/200\n",
      "1/1 [==============================] - 1s 1s/step - loss: 0.0167\n",
      "Epoch 109/200\n",
      "1/1 [==============================] - 1s 1s/step - loss: 0.0168\n",
      "Epoch 110/200\n",
      "1/1 [==============================] - 1s 998ms/step - loss: 0.0159\n",
      "Epoch 111/200\n",
      "1/1 [==============================] - 1s 1s/step - loss: 0.0163\n",
      "Epoch 112/200\n",
      "1/1 [==============================] - 1s 1s/step - loss: 0.0160\n",
      "Epoch 113/200\n",
      "1/1 [==============================] - 1s 995ms/step - loss: 0.0155\n",
      "Epoch 114/200\n",
      "1/1 [==============================] - 1s 1s/step - loss: 0.0158\n",
      "Epoch 115/200\n",
      "1/1 [==============================] - 1s 1000ms/step - loss: 0.0152\n",
      "Epoch 116/200\n",
      "1/1 [==============================] - 1s 1s/step - loss: 0.0150\n",
      "Epoch 117/200\n",
      "1/1 [==============================] - 1s 999ms/step - loss: 0.0151\n",
      "Epoch 118/200\n",
      "1/1 [==============================] - 1s 996ms/step - loss: 0.0147\n",
      "Epoch 119/200\n",
      "1/1 [==============================] - 1s 1s/step - loss: 0.0144\n",
      "Epoch 120/200\n",
      "1/1 [==============================] - 1s 1s/step - loss: 0.0144\n",
      "Epoch 121/200\n",
      "1/1 [==============================] - 1s 1s/step - loss: 0.0141\n",
      "Epoch 122/200\n",
      "1/1 [==============================] - 1s 1s/step - loss: 0.0137\n",
      "Epoch 123/200\n",
      "1/1 [==============================] - 1s 1s/step - loss: 0.0136\n",
      "Epoch 124/200\n",
      "1/1 [==============================] - 1s 1s/step - loss: 0.0134\n",
      "Epoch 125/200\n",
      "1/1 [==============================] - 1s 1s/step - loss: 0.0130\n",
      "Epoch 126/200\n",
      "1/1 [==============================] - 1s 1s/step - loss: 0.0127\n",
      "Epoch 127/200\n",
      "1/1 [==============================] - 1s 1s/step - loss: 0.0125\n",
      "Epoch 128/200\n",
      "1/1 [==============================] - 1s 1s/step - loss: 0.0121\n",
      "Epoch 129/200\n",
      "1/1 [==============================] - 1s 1s/step - loss: 0.0117\n",
      "Epoch 130/200\n",
      "1/1 [==============================] - 1s 1s/step - loss: 0.0114\n",
      "Epoch 131/200\n",
      "1/1 [==============================] - 1s 1s/step - loss: 0.0112\n",
      "Epoch 132/200\n",
      "1/1 [==============================] - 1s 1s/step - loss: 0.0108\n",
      "Epoch 133/200\n",
      "1/1 [==============================] - 1s 1s/step - loss: 0.0104\n",
      "Epoch 134/200\n",
      "1/1 [==============================] - 1s 1s/step - loss: 0.0102\n",
      "Epoch 135/200\n",
      "1/1 [==============================] - 1s 1s/step - loss: 0.0099\n",
      "Epoch 136/200\n",
      "1/1 [==============================] - 1s 1s/step - loss: 0.0096\n",
      "Epoch 137/200\n",
      "1/1 [==============================] - 1s 1s/step - loss: 0.0093\n",
      "Epoch 138/200\n",
      "1/1 [==============================] - 1s 1s/step - loss: 0.0091\n",
      "Epoch 139/200\n",
      "1/1 [==============================] - 1s 1s/step - loss: 0.0089\n",
      "Epoch 140/200\n",
      "1/1 [==============================] - 1s 1s/step - loss: 0.0086\n",
      "Epoch 141/200\n",
      "1/1 [==============================] - 1s 1s/step - loss: 0.0085\n",
      "Epoch 142/200\n",
      "1/1 [==============================] - 1s 1s/step - loss: 0.0083\n",
      "Epoch 143/200\n",
      "1/1 [==============================] - 1s 1s/step - loss: 0.0081\n",
      "Epoch 144/200\n",
      "1/1 [==============================] - 1s 1s/step - loss: 0.0080\n",
      "Epoch 145/200\n",
      "1/1 [==============================] - 1s 1s/step - loss: 0.0078\n",
      "Epoch 146/200\n",
      "1/1 [==============================] - 1s 1s/step - loss: 0.0077\n",
      "Epoch 147/200\n",
      "1/1 [==============================] - 1s 1s/step - loss: 0.0076\n",
      "Epoch 148/200\n",
      "1/1 [==============================] - 1s 1s/step - loss: 0.0075\n",
      "Epoch 149/200\n",
      "1/1 [==============================] - 1s 1s/step - loss: 0.0074\n",
      "Epoch 150/200\n",
      "1/1 [==============================] - 1s 1s/step - loss: 0.0073\n",
      "Epoch 151/200\n",
      "1/1 [==============================] - 1s 1s/step - loss: 0.0072\n",
      "Epoch 152/200\n",
      "1/1 [==============================] - 1s 1s/step - loss: 0.0071\n",
      "Epoch 153/200\n",
      "1/1 [==============================] - 1s 1s/step - loss: 0.0071\n",
      "Epoch 154/200\n",
      "1/1 [==============================] - 1s 1s/step - loss: 0.0070\n",
      "Epoch 155/200\n",
      "1/1 [==============================] - 1s 1s/step - loss: 0.0069\n",
      "Epoch 156/200\n",
      "1/1 [==============================] - 1s 1s/step - loss: 0.0068\n",
      "Epoch 157/200\n",
      "1/1 [==============================] - 1s 997ms/step - loss: 0.0068\n",
      "Epoch 158/200\n",
      "1/1 [==============================] - 1s 998ms/step - loss: 0.0067\n",
      "Epoch 159/200\n",
      "1/1 [==============================] - 1s 1s/step - loss: 0.0066\n",
      "Epoch 160/200\n",
      "1/1 [==============================] - 1s 1s/step - loss: 0.0065\n",
      "Epoch 161/200\n",
      "1/1 [==============================] - 1s 1s/step - loss: 0.0065\n",
      "Epoch 162/200\n",
      "1/1 [==============================] - 1s 1s/step - loss: 0.0064\n",
      "Epoch 163/200\n",
      "1/1 [==============================] - 1s 1s/step - loss: 0.0063\n",
      "Epoch 164/200\n",
      "1/1 [==============================] - 1s 1s/step - loss: 0.0063\n",
      "Epoch 165/200\n",
      "1/1 [==============================] - 1s 1000ms/step - loss: 0.0062\n",
      "Epoch 166/200\n",
      "1/1 [==============================] - 1s 990ms/step - loss: 0.0061\n",
      "Epoch 167/200\n",
      "1/1 [==============================] - 1s 1s/step - loss: 0.0061\n",
      "Epoch 168/200\n",
      "1/1 [==============================] - 1s 1s/step - loss: 0.0060\n",
      "Epoch 169/200\n",
      "1/1 [==============================] - 1s 1s/step - loss: 0.0060\n",
      "Epoch 170/200\n",
      "1/1 [==============================] - 1s 999ms/step - loss: 0.0059\n",
      "Epoch 171/200\n",
      "1/1 [==============================] - 1s 1s/step - loss: 0.0059\n",
      "Epoch 172/200\n",
      "1/1 [==============================] - 1s 1s/step - loss: 0.0058\n",
      "Epoch 173/200\n",
      "1/1 [==============================] - 1s 997ms/step - loss: 0.0058\n",
      "Epoch 174/200\n",
      "1/1 [==============================] - 1s 1s/step - loss: 0.0057\n",
      "Epoch 175/200\n",
      "1/1 [==============================] - 1s 1s/step - loss: 0.0057\n",
      "Epoch 176/200\n",
      "1/1 [==============================] - 1s 1s/step - loss: 0.0056\n",
      "Epoch 177/200\n",
      "1/1 [==============================] - 1s 998ms/step - loss: 0.0056\n",
      "Epoch 178/200\n",
      "1/1 [==============================] - 1s 1s/step - loss: 0.0055\n",
      "Epoch 179/200\n",
      "1/1 [==============================] - 1s 1s/step - loss: 0.0055\n",
      "Epoch 180/200\n",
      "1/1 [==============================] - 1s 1s/step - loss: 0.0055\n",
      "Epoch 181/200\n",
      "1/1 [==============================] - 1s 1s/step - loss: 0.0055\n",
      "Epoch 182/200\n",
      "1/1 [==============================] - 1s 1s/step - loss: 0.0055\n",
      "Epoch 183/200\n",
      "1/1 [==============================] - 1s 997ms/step - loss: 0.0055\n",
      "Epoch 184/200\n",
      "1/1 [==============================] - 1s 996ms/step - loss: 0.0055\n",
      "Epoch 185/200\n",
      "1/1 [==============================] - 1s 999ms/step - loss: 0.0054\n",
      "Epoch 186/200\n",
      "1/1 [==============================] - 1s 1s/step - loss: 0.0053\n",
      "Epoch 187/200\n",
      "1/1 [==============================] - 1s 1s/step - loss: 0.0052\n",
      "Epoch 188/200\n",
      "1/1 [==============================] - 1s 1s/step - loss: 0.0051\n",
      "Epoch 189/200\n",
      "1/1 [==============================] - 1s 1s/step - loss: 0.0051\n",
      "Epoch 190/200\n",
      "1/1 [==============================] - 1s 1s/step - loss: 0.0051\n",
      "Epoch 191/200\n",
      "1/1 [==============================] - 1s 1s/step - loss: 0.0051\n",
      "Epoch 192/200\n",
      "1/1 [==============================] - 1s 1s/step - loss: 0.0051\n",
      "Epoch 193/200\n",
      "1/1 [==============================] - 1s 1s/step - loss: 0.0051\n",
      "Epoch 194/200\n",
      "1/1 [==============================] - 1s 998ms/step - loss: 0.0050\n",
      "Epoch 195/200\n",
      "1/1 [==============================] - 1s 999ms/step - loss: 0.0049\n",
      "Epoch 196/200\n",
      "1/1 [==============================] - 1s 988ms/step - loss: 0.0049\n",
      "Epoch 197/200\n",
      "1/1 [==============================] - 1s 988ms/step - loss: 0.0048\n",
      "Epoch 198/200\n",
      "1/1 [==============================] - 1s 988ms/step - loss: 0.0048\n",
      "Epoch 199/200\n",
      "1/1 [==============================] - 1s 1s/step - loss: 0.0047\n",
      "Epoch 200/200\n",
      "1/1 [==============================] - 1s 1s/step - loss: 0.0047\n"
     ]
    },
    {
     "data": {
      "text/plain": [
       "<megnet.models.megnet.MEGNetModel at 0x7f0ed971e1f0>"
      ]
     },
     "execution_count": 25,
     "metadata": {},
     "output_type": "execute_result"
    }
   ],
   "source": [
    "model.train(new_structures, new_gaps, epochs=200)"
   ]
  },
  {
   "cell_type": "markdown",
   "id": "39a5929e-c078-4fe7-9122-c01f37df45b7",
   "metadata": {},
   "source": [
    "# 提取需要拟合的326个结构对象数据"
   ]
  },
  {
   "cell_type": "code",
   "execution_count": null,
   "id": "46a0bb65-0a60-4a72-bc66-aea915fa5f9e",
   "metadata": {},
   "outputs": [],
   "source": [
    "import os\n",
    "import glob\n",
    "\n",
    "# 指定的路径\n",
    "path = '/root/workspace/'\n",
    "\n",
    "# 使用glob模块找到所有.cif后缀的文件\n",
    "cif_files = glob.glob(os.path.join(path, '*.cif'))\n",
    "\n",
    "# 打印结果\n",
    "for file in cif_files:\n",
    "    print(file)"
   ]
  },
  {
   "cell_type": "code",
   "execution_count": null,
   "id": "a6392342-1776-4ae7-b041-e0f85d671f08",
   "metadata": {},
   "outputs": [],
   "source": []
  },
  {
   "cell_type": "code",
   "execution_count": null,
   "id": "c31ca260-baf1-4439-b881-6a1de38aeb8e",
   "metadata": {},
   "outputs": [],
   "source": []
  },
  {
   "cell_type": "code",
   "execution_count": null,
   "id": "dd2b3b94-dc4b-4ca1-9fda-5f18b9fa3657",
   "metadata": {},
   "outputs": [],
   "source": []
  }
 ],
 "metadata": {
  "kernelspec": {
   "display_name": "Python 3 (ipykernel)",
   "language": "python",
   "name": "python3"
  },
  "language_info": {
   "codemirror_mode": {
    "name": "ipython",
    "version": 3
   },
   "file_extension": ".py",
   "mimetype": "text/x-python",
   "name": "python",
   "nbconvert_exporter": "python",
   "pygments_lexer": "ipython3",
   "version": "3.9.18"
  }
 },
 "nbformat": 4,
 "nbformat_minor": 5
}
